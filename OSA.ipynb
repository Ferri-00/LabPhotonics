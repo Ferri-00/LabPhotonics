{
 "cells": [
  {
   "cell_type": "raw",
   "id": "4eaaa653-cf97-4fdd-b7c0-e12b9ed2d05a",
   "metadata": {},
   "source": [
    "Dimensione del buffer ragionevole (15*8) + 2000*(8*4)"
   ]
  },
  {
   "cell_type": "code",
   "execution_count": 15,
   "id": "ba478403-f72d-45ba-818f-968f35df084f",
   "metadata": {},
   "outputs": [],
   "source": [
    "import sys\n",
    "import socket\n",
    "import time\n",
    "\n",
    "import numpy as np\n",
    "import matplotlib.pyplot as plt"
   ]
  },
  {
   "cell_type": "markdown",
   "id": "69699041-df53-4af9-8f85-1e246d5a93d3",
   "metadata": {},
   "source": [
    "## Connection to the detector"
   ]
  },
  {
   "cell_type": "code",
   "execution_count": 2,
   "id": "292269dd-3252-458d-9173-e7a9e201aea5",
   "metadata": {},
   "outputs": [],
   "source": [
    "TCP_IP = '10.194.101.12' # Identifica il detector\n",
    "TCP_PORT = 8002 # identifica la porta del detector\n",
    "TCP_PORT_KERNEL = 8000 # identifica il kernel del detector\n",
    "# porta 8000 è la porta al kernel del detector, serva in caso si voglia dire di spegnersi alla macchina\n",
    "BUFFER_SIZE = int(2e5)\n",
    "sOSA = socket.socket(socket.AF_INET, socket.SOCK_STREAM)\n",
    "sKernel = socket.socket(socket.AF_INET, socket.SOCK_STREAM)\n",
    "sOSA.connect((TCP_IP,TCP_PORT))\n",
    "sKernel.connect((TCP_IP,TCP_PORT_KERNEL))"
   ]
  },
  {
   "cell_type": "markdown",
   "id": "8275afb6-f12e-4c3f-bdc7-d92744529e72",
   "metadata": {},
   "source": [
    "## Definition of functions"
   ]
  },
  {
   "cell_type": "markdown",
   "id": "a7068cf7-70bf-4be6-be3f-8a50514e2cd9",
   "metadata": {},
   "source": [
    "Functions for comunication"
   ]
  },
  {
   "cell_type": "code",
   "execution_count": 3,
   "id": "5bed1e3c-f7dc-4ee5-8b57-9a8ca1047fe3",
   "metadata": {},
   "outputs": [],
   "source": [
    "def SMS(message, sock):\n",
    "    message += '\\n'\n",
    "    sock.sendall(message.encode('utf-8'))\n",
    "    data = sock.recv(BUFFER_SIZE)\n",
    "    data = data.decode('utf-8')\n",
    "    return data\n",
    "\n",
    "def SEND(message, sock):\n",
    "    message += '\\n'\n",
    "    sock.sendall(message.encode('utf-8'))\n",
    "\n",
    "def BUFFER(sock):\n",
    "    message='CUR:BUFF?\\n'\n",
    "    sock.sendall(message.encode('utf-8'))\n",
    "    data = sock.recv(BUFFER_SIZE).decode('utf-8')\n",
    "    return data"
   ]
  },
  {
   "cell_type": "markdown",
   "id": "f072de5a-090c-4d4c-b3c9-f6075a3e615d",
   "metadata": {},
   "source": [
    "Functions for units conversion"
   ]
  },
  {
   "cell_type": "code",
   "execution_count": null,
   "id": "6dac6057-b615-4a99-8849-cf762fce1058",
   "metadata": {},
   "outputs": [],
   "source": [
    "c = 299792458 # m/s\n",
    "def THz_to_nm(frequency):\n",
    "    c = 299792458 # m/s\n",
    "    wavelenght = c / frequency * 1e3\n",
    "    return wavelenght\n",
    "\n",
    "def nm_to_THz (wavelenght):\n",
    "    frequency = c / wavelenght / 1e3\n",
    "    return frequency\n",
    "\n",
    "def twos_complement(hexstr, bits):\n",
    "    value = int(hexstr, 16)\n",
    "    if value & (1 << (bits - 1)):\n",
    "        value -= 1 << bits\n",
    "    return value"
   ]
  },
  {
   "cell_type": "markdown",
   "id": "29867eb4-029e-48f2-bd2a-6d66f3fad4e8",
   "metadata": {},
   "source": [
    "## Comunication with the detector"
   ]
  },
  {
   "cell_type": "markdown",
   "id": "fbbb22c7-e8bb-4ae5-b712-aff598b4840c",
   "metadata": {},
   "source": [
    "Check if the comunication with the detector is enstablished"
   ]
  },
  {
   "cell_type": "code",
   "execution_count": 4,
   "id": "848595bf-308b-43f9-8e60-37b5255bb44d",
   "metadata": {},
   "outputs": [
    {
     "name": "stdout",
     "output_type": "stream",
     "text": [
      "JDSU,MTS 8000,11047,ISU,7.32\n",
      "\n"
     ]
    }
   ],
   "source": [
    "MESSAGE = '*REM; *IDN?' # operazioni con * sono richieste di sistema\n",
    "# MESSAGE = '*REM; *ESR?\\n'\n",
    "msg = SMS(MESSAGE,sKernel)\n",
    "print(msg)"
   ]
  },
  {
   "cell_type": "markdown",
   "id": "2e15c510-bc2e-4069-a801-5fd9680c1dc4",
   "metadata": {},
   "source": [
    "Check if the detector is ready to acquire"
   ]
  },
  {
   "cell_type": "code",
   "execution_count": 5,
   "id": "952a3995-3ddc-4ae7-bdeb-556893c6850a",
   "metadata": {},
   "outputs": [],
   "source": [
    "while (SMS('*REM; STAT:ACQ?',sOSA) != 'STOPPED\\n'):\n",
    "        time.sleep(1)"
   ]
  },
  {
   "cell_type": "markdown",
   "id": "aaeb2add-4365-42f1-8326-b28751f75b5b",
   "metadata": {},
   "source": [
    "Set acquisition range"
   ]
  },
  {
   "cell_type": "code",
   "execution_count": 6,
   "id": "c00a3332-925d-4cd2-8182-e7ff9f9b83d3",
   "metadata": {},
   "outputs": [],
   "source": [
    "SEND('OSASetup:SEAcq CSManual',sOSA)\n",
    "\n",
    "lambda_0 = 1542 # Central peak of the laser\n",
    "delta = 20 \n",
    "\n",
    "center = str(nm_to_THz(lambda_0))\n",
    "span = str(c / lambda_0**2 * delta / 1e3)\n",
    "\n",
    "SEND('OSASetup:MCAcq ' + center,sOSA)\n",
    "SEND('OSASetup:MSPAcq ' + span,sOSA)"
   ]
  },
  {
   "cell_type": "markdown",
   "id": "da6fd3c3-1818-4a17-bc62-468b42ceb4ea",
   "metadata": {},
   "source": [
    "Start acquisition"
   ]
  },
  {
   "cell_type": "code",
   "execution_count": 7,
   "id": "bdbe4539-821b-45d4-9923-9f808a62a1e2",
   "metadata": {},
   "outputs": [],
   "source": [
    "SEND('KEY STARt',sOSA)"
   ]
  },
  {
   "cell_type": "markdown",
   "id": "430b6710-7276-496f-b53a-cd9204b81c0d",
   "metadata": {},
   "source": [
    "Check if the acquisition has finished"
   ]
  },
  {
   "cell_type": "code",
   "execution_count": 8,
   "id": "31a875ec-7141-4d1a-a782-eb4a5d63f840",
   "metadata": {},
   "outputs": [
    {
     "name": "stdout",
     "output_type": "stream",
     "text": [
      "IN_PROGRESS\n",
      "\n",
      "IN_PROGRESS\n",
      "\n",
      "STOPPED\n",
      "\n"
     ]
    }
   ],
   "source": [
    "while (SMS('STAT:ACQ?',sOSA) == 'IN_PROGRESS\\n'):\n",
    "    time.sleep(1)\n",
    "    print(SMS('STAT:ACQ?',sOSA))"
   ]
  },
  {
   "cell_type": "markdown",
   "id": "8738a9e3-b5d6-4564-a8fd-ae52595daa02",
   "metadata": {},
   "source": [
    "Take all the variables of the acquisition and check the measurement's units"
   ]
  },
  {
   "cell_type": "code",
   "execution_count": 10,
   "id": "df37a1ff-1dd1-4466-b16c-14db39e3a686",
   "metadata": {},
   "outputs": [
    {
     "data": {
      "text/plain": [
       "'THz\\n'"
      ]
     },
     "execution_count": 10,
     "metadata": {},
     "output_type": "execute_result"
    }
   ],
   "source": [
    "SMS('CURve:XUN?', sOSA)"
   ]
  },
  {
   "cell_type": "code",
   "execution_count": 11,
   "id": "b6a933cb-7491-4bbe-8c75-3fa85c44c829",
   "metadata": {},
   "outputs": [
    {
     "data": {
      "text/plain": [
       "'dBm\\n'"
      ]
     },
     "execution_count": 11,
     "metadata": {},
     "output_type": "execute_result"
    }
   ],
   "source": [
    "SMS('CURve:YUN?', sOSA)"
   ]
  },
  {
   "cell_type": "code",
   "execution_count": 9,
   "id": "8f3d9733-5fa9-40fc-bb52-7103467c7d28",
   "metadata": {},
   "outputs": [],
   "source": [
    "XOffset = float(SMS('CURve:XOFFset?', sOSA))\n",
    "XScale = float(SMS('CURve:XSC?', sOSA))\n",
    "YOffset = float(SMS('CURve:YOFFset?', sOSA))\n",
    "YScale = float(SMS('CURve:YSC?', sOSA))"
   ]
  },
  {
   "cell_type": "code",
   "execution_count": null,
   "id": "35521d05-5ef1-4cb5-b379-0f04f774fc4b",
   "metadata": {},
   "outputs": [],
   "source": [
    "curveSize = SMS('CUR:SIZE?', sOSA)"
   ]
  },
  {
   "cell_type": "markdown",
   "id": "83dee5ae-47b4-40d6-9e3c-4c61014696db",
   "metadata": {},
   "source": [
    "Download the buffer"
   ]
  },
  {
   "cell_type": "code",
   "execution_count": 20,
   "id": "2f484a0b-acab-4207-9a8b-cc950c051242",
   "metadata": {},
   "outputs": [],
   "source": [
    "def BUFFER(sock): # se funziona come deve è da spostare su\n",
    "    message='CUR:BUFF?\\n'\n",
    "    sock.sendall(message.encode('utf-8'))\n",
    "    nBits = sock.recv(2).decode('utf-8')\n",
    "    print(nBits)\n",
    "    nBits = int(nBits[1])\n",
    "    print(nBits)\n",
    "\n",
    "    nPoints = sock.recv(nBits).decode('utf-8')\n",
    "    print(nPoints)\n",
    "    nPoints = int(nPoints)\n",
    "    print(nPoints)\n",
    "    \n",
    "    points = np.array([],dtype=int)\n",
    "\n",
    "    if (nPoints == curveSize):\n",
    "        for i in range(nPoints + 5):\n",
    "            buff = sock.recv(4).decode('utf-8')\n",
    "            if (buff == '\\n'):\n",
    "                print(\"The end of the buffer was reached\")\n",
    "                if (i == nPoints):\n",
    "                    print(\"SUCCESS! The number of points found in the buffer is compatible with the number of points expected\")\n",
    "                else:\n",
    "                    print(\"WARNING! The number of points found in the buffer doesn't correspond with the expected number of points\")\n",
    "            else:\n",
    "                points = np.append(points,twos_complement(buff, 16))\n",
    "                print(points)\n",
    "    else:\n",
    "        print(\"ERROR! The number of points in the buffer doesn't corresponds with the number of points acquired!\")\n",
    "\n",
    "    sock.close()\n",
    "    print(\"Connection with the OSA was closed\")\n",
    "    time.sleep(0.2)\n",
    "    \n",
    "    sock = socket.socket(socket.AF_INET, socket.SOCK_STREAM)\n",
    "    sock.connect((TCP_IP,TCP_PORT))\n",
    "    SMS('*REM; STAT:ACQ?',sock)"
   ]
  },
  {
   "cell_type": "code",
   "execution_count": null,
   "id": "5899ee1f-0a7b-4e28-aa97-7f6c971a81f7",
   "metadata": {},
   "outputs": [],
   "source": [
    "points = BUFFER(sOSA)"
   ]
  },
  {
   "cell_type": "markdown",
   "id": "622583f1-bf0f-4f7f-9275-81c729641506",
   "metadata": {},
   "source": [
    "## Conversion of points into the correct measurement's units"
   ]
  },
  {
   "cell_type": "code",
   "execution_count": null,
   "id": "9d33fe4a-c79e-4d61-a661-022d451ed652",
   "metadata": {},
   "outputs": [],
   "source": [
    "points = [YOffset + YScale * p for p in points]\n",
    "# points"
   ]
  },
  {
   "cell_type": "code",
   "execution_count": null,
   "id": "edd82b75-0dcf-4c45-9f71-ad2cb015adf6",
   "metadata": {},
   "outputs": [],
   "source": [
    "plt.plot(points)"
   ]
  },
  {
   "cell_type": "markdown",
   "id": "388170a7-e30c-4e4f-b2f2-411a67479b21",
   "metadata": {},
   "source": [
    "# Prove per BUFFER"
   ]
  },
  {
   "cell_type": "code",
   "execution_count": 2,
   "id": "487b9d35-7bd0-4d8a-8c37-767d30412275",
   "metadata": {},
   "outputs": [],
   "source": [
    "buffer = '#6008000217F217E2180CBFFCB00\\n'"
   ]
  },
  {
   "cell_type": "code",
   "execution_count": 7,
   "id": "d12049d7-1190-416f-9d6b-606c4b40fcc8",
   "metadata": {},
   "outputs": [
    {
     "name": "stdout",
     "output_type": "stream",
     "text": [
      "#6\n",
      "6\n"
     ]
    }
   ],
   "source": [
    "nBits = buffer[:2]\n",
    "print(nBits)\n",
    "nBits = int(nBits[1])\n",
    "print(nBits)"
   ]
  },
  {
   "cell_type": "code",
   "execution_count": 10,
   "id": "b4cfe144-da70-4e91-9550-f4a4ed3d9380",
   "metadata": {},
   "outputs": [
    {
     "name": "stdout",
     "output_type": "stream",
     "text": [
      "008000\n",
      "8000\n"
     ]
    }
   ],
   "source": [
    "nPoints = buffer[2:2+nBits]\n",
    "print(nPoints)\n",
    "nPoints = int(nPoints)\n",
    "print(nPoints)"
   ]
  },
  {
   "cell_type": "code",
   "execution_count": null,
   "id": "2fabb4f2-d2c7-4480-95bd-087041e85d1a",
   "metadata": {},
   "outputs": [],
   "source": [
    "for i in range(5):\n",
    "    "
   ]
  },
  {
   "cell_type": "code",
   "execution_count": 17,
   "id": "e053cb34-626e-401e-924e-0d3acf6ba5c2",
   "metadata": {},
   "outputs": [
    {
     "name": "stdout",
     "output_type": "stream",
     "text": [
      "[8575]\n",
      "[8575 8574]\n",
      "[8575 8574 8576]\n",
      "[  8575   8574   8576 -13313]\n",
      "[  8575   8574   8576 -13313 -13568]\n"
     ]
    }
   ],
   "source": [
    "points = np.array([],dtype=int)\n",
    "for i in range(5):\n",
    "    start = 2+nBits + i*4\n",
    "    stop = start + 4\n",
    "    points = np.append(points,twos_complement(buffer[start:stop], 16))\n",
    "    print(points)\n"
   ]
  },
  {
   "cell_type": "code",
   "execution_count": null,
   "id": "b5563410-d2e0-4b67-a3fa-31dd62bc9d12",
   "metadata": {},
   "outputs": [],
   "source": []
  },
  {
   "cell_type": "code",
   "execution_count": null,
   "id": "77f7fb25-ef05-4791-a304-05f9e36b21ea",
   "metadata": {},
   "outputs": [],
   "source": [
    "sOSA.close()\n",
    "time.sleep(0.2)\n",
    "sOSA = socket.socket(socket.AF_INET, socket.SOCK_STREAM)\n",
    "sOSA.connect((TCP_IP,TCP_PORT))\n",
    "SMS(MESSAGE,sKernel)"
   ]
  },
  {
   "cell_type": "code",
   "execution_count": null,
   "id": "abd56b3d-29ee-4215-b299-c4d0bfbca1de",
   "metadata": {},
   "outputs": [],
   "source": [
    "SMS('*REM; STAT:ACQ?',sOSA)"
   ]
  },
  {
   "cell_type": "code",
   "execution_count": null,
   "id": "4571729d-8e45-48ea-8ed8-67aeeebe1c60",
   "metadata": {},
   "outputs": [],
   "source": [
    "# SMS('OSAS:RESO?', sOSA)"
   ]
  },
  {
   "cell_type": "code",
   "execution_count": null,
   "id": "f64e1b72-12b4-4147-9473-e4185107a86a",
   "metadata": {},
   "outputs": [],
   "source": [
    "len(data)"
   ]
  },
  {
   "cell_type": "code",
   "execution_count": null,
   "id": "a2ccce1f-2313-41cf-834a-d01ec0bd9988",
   "metadata": {},
   "outputs": [],
   "source": [
    "data"
   ]
  },
  {
   "cell_type": "markdown",
   "id": "300a0691-1b7a-4d85-ae69-86db6954d67a",
   "metadata": {},
   "source": [
    "# Decode del buffer se si scarica tutto assieme"
   ]
  },
  {
   "cell_type": "code",
   "execution_count": null,
   "id": "97dac174-a9c3-409b-8780-49ed2c02e064",
   "metadata": {},
   "outputs": [],
   "source": [
    "dataDec = data\n",
    "# .decode('utf-8')"
   ]
  },
  {
   "cell_type": "code",
   "execution_count": null,
   "id": "1796a99c-f4d3-46bc-a136-75234918f746",
   "metadata": {},
   "outputs": [],
   "source": [
    "nBytes = int(dataDec[1])\n",
    "print('Number of char:', nBytes)\n",
    "\n",
    "nPoints = int(int(dataDec[2:9])/4)\n",
    "print('Points in the buffer:', nPoints)\n",
    "# check che questo valore sia lo stesso di prima\n",
    "\n",
    "def twos_complement(hexstr, bits):\n",
    "    value = int(hexstr, 16)\n",
    "    if value & (1 << (bits - 1)):\n",
    "        value -= 1 << bits\n",
    "    return value\n",
    "\n",
    "points = np.array([],dtype=int)\n",
    "for i in range(nPoints):\n",
    "    start = 2+nBytes + i*4\n",
    "    stop = start + 4\n",
    "    points = np.append(points,twos_complement(dataDec[start:stop], 16))\n",
    "\n"
   ]
  },
  {
   "cell_type": "code",
   "execution_count": null,
   "id": "ce2b3589-100a-47ad-bab7-9ceb1c5e6e56",
   "metadata": {},
   "outputs": [],
   "source": []
  },
  {
   "cell_type": "markdown",
   "id": "419d1e36-3aaf-4cbd-8ddd-a658134b773a",
   "metadata": {},
   "source": [
    "Crea funzione di controllo che il numero di punti non superi il buffer richiesto da scaricare !!!!!!!!!!!!!!!!!!!!!!!"
   ]
  },
  {
   "cell_type": "markdown",
   "id": "8585c856",
   "metadata": {},
   "source": [
    "The data is given in frequency but the resolution is in nm so convert in nm and divide by resolution when calculating the power. "
   ]
  }
 ],
 "metadata": {
  "kernelspec": {
   "display_name": "Python 3 (ipykernel)",
   "language": "python",
   "name": "python3"
  },
  "language_info": {
   "codemirror_mode": {
    "name": "ipython",
    "version": 3
   },
   "file_extension": ".py",
   "mimetype": "text/x-python",
   "name": "python",
   "nbconvert_exporter": "python",
   "pygments_lexer": "ipython3",
   "version": "3.10.11"
  }
 },
 "nbformat": 4,
 "nbformat_minor": 5
}
